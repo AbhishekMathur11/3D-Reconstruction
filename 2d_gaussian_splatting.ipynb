{
  "cells": [
    {
      "cell_type": "markdown",
      "metadata": {
        "id": "lzfz1C25ZPWc"
      },
      "source": [
        "Before proceeding, please ensure that your notebook is connected to a GPU runtime."
      ]
    },
    {
      "cell_type": "code",
      "execution_count": 3,
      "metadata": {
        "colab": {
          "base_uri": "https://localhost:8080/"
        },
        "id": "Iu5nIIrEY1_n",
        "outputId": "a455565e-ed44-47d1-e5f3-29cca8e3a9ef"
      },
      "outputs": [
        {
          "output_type": "stream",
          "name": "stdout",
          "text": [
            "/content\n",
            "Cloning into '2d-gaussian-splatting'...\n",
            "remote: Enumerating objects: 238, done.\u001b[K\n",
            "remote: Counting objects: 100% (172/172), done.\u001b[K\n",
            "remote: Compressing objects: 100% (95/95), done.\u001b[K\n",
            "remote: Total 238 (delta 110), reused 77 (delta 77), pack-reused 66 (from 1)\u001b[K\n",
            "Receiving objects: 100% (238/238), 9.39 MiB | 44.12 MiB/s, done.\n",
            "Resolving deltas: 100% (116/116), done.\n",
            "Submodule 'submodules/diff-surfel-rasterization' (https://github.com/hbb1/diff-surfel-rasterization.git) registered for path 'submodules/diff-surfel-rasterization'\n",
            "Submodule 'submodules/simple-knn' (https://gitlab.inria.fr/bkerbl/simple-knn.git) registered for path 'submodules/simple-knn'\n",
            "Cloning into '/content/2d-gaussian-splatting/submodules/diff-surfel-rasterization'...\n",
            "remote: Enumerating objects: 697, done.        \n",
            "remote: Counting objects: 100% (287/287), done.        \n",
            "remote: Compressing objects: 100% (33/33), done.        \n",
            "remote: Total 697 (delta 272), reused 254 (delta 254), pack-reused 410 (from 1)        \n",
            "Receiving objects: 100% (697/697), 10.99 MiB | 27.38 MiB/s, done.\n",
            "Resolving deltas: 100% (499/499), done.\n",
            "Cloning into '/content/2d-gaussian-splatting/submodules/simple-knn'...\n",
            "remote: Enumerating objects: 37, done.        \n",
            "remote: Counting objects: 100% (37/37), done.        \n",
            "remote: Compressing objects: 100% (34/34), done.        \n",
            "remote: Total 37 (delta 18), reused 0 (delta 0), pack-reused 0 (from 0)        \n",
            "Receiving objects: 100% (37/37), 9.46 KiB | 9.46 MiB/s, done.\n",
            "Resolving deltas: 100% (18/18), done.\n",
            "Submodule path 'submodules/diff-surfel-rasterization': checked out '28c928a36ea19407cd9754d068bd9a9535216979'\n",
            "Submodule 'third_party/glm' (https://github.com/g-truc/glm.git) registered for path 'submodules/diff-surfel-rasterization/third_party/glm'\n",
            "Cloning into '/content/2d-gaussian-splatting/submodules/diff-surfel-rasterization/third_party/glm'...\n",
            "remote: Enumerating objects: 59935, done.        \n",
            "remote: Counting objects: 100% (217/217), done.        \n",
            "remote: Compressing objects: 100% (91/91), done.        \n",
            "remote: Total 59935 (delta 170), reused 126 (delta 126), pack-reused 59718 (from 2)        \n",
            "Receiving objects: 100% (59935/59935), 71.37 MiB | 26.90 MiB/s, done.\n",
            "Resolving deltas: 100% (45404/45404), done.\n",
            "Submodule path 'submodules/diff-surfel-rasterization/third_party/glm': checked out '5c46b9c07008ae65cb81ab79cd677ecc1934b903'\n",
            "Submodule path 'submodules/simple-knn': checked out 'f155ec04131cb579f53443a06879d37115f4612f'\n",
            "\u001b[2K     \u001b[90m━━━━━━━━━━━━━━━━━━━━━━━━━━━━━━━━━━━━━━━━\u001b[0m \u001b[32m43.3/43.3 kB\u001b[0m \u001b[31m2.7 MB/s\u001b[0m eta \u001b[36m0:00:00\u001b[0m\n",
            "\u001b[?25h"
          ]
        }
      ],
      "source": [
        "%cd /content\n",
        "!git clone https://github.com/atakan-topaloglu/2d-gaussian-splatting --recursive\n",
        "!pip install -q plyfile"
      ]
    },
    {
      "cell_type": "code",
      "source": [
        "# prompt: I want to unzip a file here\n",
        "\n",
        "!unzip /content/south-building.zip"
      ],
      "metadata": {
        "id": "drRq2uqmcAcD",
        "outputId": "75156f2a-6900-4327-8687-e0b42b98eeb7",
        "colab": {
          "base_uri": "https://localhost:8080/"
        }
      },
      "execution_count": 2,
      "outputs": [
        {
          "output_type": "stream",
          "name": "stdout",
          "text": [
            "Archive:  /content/south-building.zip\n",
            "   creating: south-building/\n",
            "  inflating: south-building/database.db  \n",
            "   creating: south-building/images/\n",
            "  inflating: south-building/images/P1180347.JPG  \n",
            "  inflating: south-building/images/P1180141.JPG  \n",
            "  inflating: south-building/images/P1180142.JPG  \n",
            "  inflating: south-building/images/P1180143.JPG  \n",
            "  inflating: south-building/images/P1180144.JPG  \n",
            "  inflating: south-building/images/P1180145.JPG  \n",
            "  inflating: south-building/images/P1180146.JPG  \n",
            "  inflating: south-building/images/P1180147.JPG  \n",
            "  inflating: south-building/images/P1180148.JPG  \n",
            "  inflating: south-building/images/P1180149.JPG  \n",
            "  inflating: south-building/images/P1180150.JPG  \n",
            "  inflating: south-building/images/P1180151.JPG  \n",
            "  inflating: south-building/images/P1180152.JPG  \n",
            "  inflating: south-building/images/P1180153.JPG  \n",
            "  inflating: south-building/images/P1180154.JPG  \n",
            "  inflating: south-building/images/P1180155.JPG  \n",
            "  inflating: south-building/images/P1180156.JPG  \n",
            "  inflating: south-building/images/P1180157.JPG  \n",
            "  inflating: south-building/images/P1180158.JPG  \n",
            "  inflating: south-building/images/P1180159.JPG  \n",
            "  inflating: south-building/images/P1180160.JPG  \n",
            "  inflating: south-building/images/P1180161.JPG  \n",
            "  inflating: south-building/images/P1180162.JPG  \n",
            "  inflating: south-building/images/P1180163.JPG  \n",
            "  inflating: south-building/images/P1180164.JPG  \n",
            "  inflating: south-building/images/P1180165.JPG  \n",
            "  inflating: south-building/images/P1180166.JPG  \n",
            "  inflating: south-building/images/P1180167.JPG  \n",
            "  inflating: south-building/images/P1180168.JPG  \n",
            "  inflating: south-building/images/P1180169.JPG  \n",
            "  inflating: south-building/images/P1180170.JPG  \n",
            "  inflating: south-building/images/P1180171.JPG  \n",
            "  inflating: south-building/images/P1180172.JPG  \n",
            "  inflating: south-building/images/P1180173.JPG  \n",
            "  inflating: south-building/images/P1180174.JPG  \n",
            "  inflating: south-building/images/P1180175.JPG  \n",
            "  inflating: south-building/images/P1180176.JPG  \n",
            "  inflating: south-building/images/P1180177.JPG  \n",
            "  inflating: south-building/images/P1180178.JPG  \n",
            "  inflating: south-building/images/P1180179.JPG  \n",
            "  inflating: south-building/images/P1180180.JPG  \n",
            "  inflating: south-building/images/P1180181.JPG  \n",
            "  inflating: south-building/images/P1180182.JPG  \n",
            "  inflating: south-building/images/P1180183.JPG  \n",
            "  inflating: south-building/images/P1180184.JPG  \n",
            "  inflating: south-building/images/P1180185.JPG  \n",
            "  inflating: south-building/images/P1180186.JPG  \n",
            "  inflating: south-building/images/P1180187.JPG  \n",
            "  inflating: south-building/images/P1180188.JPG  \n",
            "  inflating: south-building/images/P1180189.JPG  \n",
            "  inflating: south-building/images/P1180190.JPG  \n",
            "  inflating: south-building/images/P1180191.JPG  \n",
            "  inflating: south-building/images/P1180192.JPG  \n",
            "  inflating: south-building/images/P1180193.JPG  \n",
            "  inflating: south-building/images/P1180194.JPG  \n",
            "  inflating: south-building/images/P1180195.JPG  \n",
            "  inflating: south-building/images/P1180196.JPG  \n",
            "  inflating: south-building/images/P1180197.JPG  \n",
            "  inflating: south-building/images/P1180198.JPG  \n",
            "  inflating: south-building/images/P1180199.JPG  \n",
            "  inflating: south-building/images/P1180200.JPG  \n",
            "  inflating: south-building/images/P1180201.JPG  \n",
            "  inflating: south-building/images/P1180202.JPG  \n",
            "  inflating: south-building/images/P1180203.JPG  \n",
            "  inflating: south-building/images/P1180204.JPG  \n",
            "  inflating: south-building/images/P1180205.JPG  \n",
            "  inflating: south-building/images/P1180206.JPG  \n",
            "  inflating: south-building/images/P1180207.JPG  \n",
            "  inflating: south-building/images/P1180208.JPG  \n",
            "  inflating: south-building/images/P1180209.JPG  \n",
            "  inflating: south-building/images/P1180210.JPG  \n",
            "  inflating: south-building/images/P1180211.JPG  \n",
            "  inflating: south-building/images/P1180212.JPG  \n",
            "  inflating: south-building/images/P1180213.JPG  \n",
            "  inflating: south-building/images/P1180214.JPG  \n",
            "  inflating: south-building/images/P1180215.JPG  \n",
            "  inflating: south-building/images/P1180216.JPG  \n",
            "  inflating: south-building/images/P1180217.JPG  \n",
            "  inflating: south-building/images/P1180218.JPG  \n",
            "  inflating: south-building/images/P1180219.JPG  \n",
            "  inflating: south-building/images/P1180220.JPG  \n",
            "  inflating: south-building/images/P1180221.JPG  \n",
            "  inflating: south-building/images/P1180222.JPG  \n",
            "  inflating: south-building/images/P1180223.JPG  \n",
            "  inflating: south-building/images/P1180224.JPG  \n",
            "  inflating: south-building/images/P1180225.JPG  \n",
            "  inflating: south-building/images/P1180305.JPG  \n",
            "  inflating: south-building/images/P1180306.JPG  \n",
            "  inflating: south-building/images/P1180307.JPG  \n",
            "  inflating: south-building/images/P1180308.JPG  \n",
            "  inflating: south-building/images/P1180309.JPG  \n",
            "  inflating: south-building/images/P1180310.JPG  \n",
            "  inflating: south-building/images/P1180311.JPG  \n",
            "  inflating: south-building/images/P1180312.JPG  \n",
            "  inflating: south-building/images/P1180313.JPG  \n",
            "  inflating: south-building/images/P1180314.JPG  \n",
            "  inflating: south-building/images/P1180315.JPG  \n",
            "  inflating: south-building/images/P1180316.JPG  \n",
            "  inflating: south-building/images/P1180317.JPG  \n",
            "  inflating: south-building/images/P1180318.JPG  \n",
            "  inflating: south-building/images/P1180319.JPG  \n",
            "  inflating: south-building/images/P1180320.JPG  \n",
            "  inflating: south-building/images/P1180321.JPG  \n",
            "  inflating: south-building/images/P1180322.JPG  \n",
            "  inflating: south-building/images/P1180323.JPG  \n",
            "  inflating: south-building/images/P1180324.JPG  \n",
            "  inflating: south-building/images/P1180325.JPG  \n",
            "  inflating: south-building/images/P1180326.JPG  \n",
            "  inflating: south-building/images/P1180327.JPG  \n",
            "  inflating: south-building/images/P1180328.JPG  \n",
            "  inflating: south-building/images/P1180329.JPG  \n",
            "  inflating: south-building/images/P1180330.JPG  \n",
            "  inflating: south-building/images/P1180331.JPG  \n",
            "  inflating: south-building/images/P1180332.JPG  \n",
            "  inflating: south-building/images/P1180333.JPG  \n",
            "  inflating: south-building/images/P1180334.JPG  \n",
            "  inflating: south-building/images/P1180335.JPG  \n",
            "  inflating: south-building/images/P1180336.JPG  \n",
            "  inflating: south-building/images/P1180337.JPG  \n",
            "  inflating: south-building/images/P1180338.JPG  \n",
            "  inflating: south-building/images/P1180339.JPG  \n",
            "  inflating: south-building/images/P1180340.JPG  \n",
            "  inflating: south-building/images/P1180341.JPG  \n",
            "  inflating: south-building/images/P1180342.JPG  \n",
            "  inflating: south-building/images/P1180343.JPG  \n",
            "  inflating: south-building/images/P1180344.JPG  \n",
            "  inflating: south-building/images/P1180345.JPG  \n",
            "  inflating: south-building/images/P1180346.JPG  \n",
            "   creating: south-building/sparse/\n",
            "  inflating: south-building/sparse/cameras.txt  \n",
            "  inflating: south-building/sparse/images.txt  \n",
            "  inflating: south-building/sparse/points3D.txt  \n"
          ]
        }
      ]
    },
    {
      "cell_type": "code",
      "execution_count": 4,
      "metadata": {
        "colab": {
          "base_uri": "https://localhost:8080/"
        },
        "id": "P-XjteusY6YB",
        "outputId": "6d53d776-b508-4860-ae82-5df1016be4c8"
      },
      "outputs": [
        {
          "output_type": "stream",
          "name": "stdout",
          "text": [
            "/content/2d-gaussian-splatting\n"
          ]
        }
      ],
      "source": [
        "%cd /content/2d-gaussian-splatting/"
      ]
    },
    {
      "cell_type": "code",
      "execution_count": 5,
      "metadata": {
        "colab": {
          "base_uri": "https://localhost:8080/"
        },
        "id": "VC9U4Lt1Y7o1",
        "outputId": "ef10b3e4-6264-412d-c319-6046ddf306f8"
      },
      "outputs": [
        {
          "output_type": "stream",
          "name": "stdout",
          "text": [
            "Collecting ninja\n",
            "  Downloading ninja-1.11.1.4-py3-none-manylinux_2_12_x86_64.manylinux2010_x86_64.whl.metadata (5.0 kB)\n",
            "Downloading ninja-1.11.1.4-py3-none-manylinux_2_12_x86_64.manylinux2010_x86_64.whl (422 kB)\n",
            "\u001b[?25l   \u001b[90m━━━━━━━━━━━━━━━━━━━━━━━━━━━━━━━━━━━━━━━━\u001b[0m \u001b[32m0.0/422.8 kB\u001b[0m \u001b[31m?\u001b[0m eta \u001b[36m-:--:--\u001b[0m\r\u001b[2K   \u001b[91m━━━━━━━━━━━━━━━━━━━━━━━━━━━━━━━━━━━━━━━\u001b[0m\u001b[91m╸\u001b[0m \u001b[32m419.8/422.8 kB\u001b[0m \u001b[31m15.2 MB/s\u001b[0m eta \u001b[36m0:00:01\u001b[0m\r\u001b[2K   \u001b[90m━━━━━━━━━━━━━━━━━━━━━━━━━━━━━━━━━━━━━━━━\u001b[0m \u001b[32m422.8/422.8 kB\u001b[0m \u001b[31m11.1 MB/s\u001b[0m eta \u001b[36m0:00:00\u001b[0m\n",
            "\u001b[?25hInstalling collected packages: ninja\n",
            "Successfully installed ninja-1.11.1.4\n",
            "Processing ./submodules/simple-knn\n",
            "  Preparing metadata (setup.py) ... \u001b[?25l\u001b[?25hdone\n",
            "Building wheels for collected packages: simple_knn\n",
            "  \u001b[1;31merror\u001b[0m: \u001b[1msubprocess-exited-with-error\u001b[0m\n",
            "  \n",
            "  \u001b[31m×\u001b[0m \u001b[32mpython setup.py bdist_wheel\u001b[0m did not run successfully.\n",
            "  \u001b[31m│\u001b[0m exit code: \u001b[1;36m1\u001b[0m\n",
            "  \u001b[31m╰─>\u001b[0m See above for output.\n",
            "  \n",
            "  \u001b[1;35mnote\u001b[0m: This error originates from a subprocess, and is likely not a problem with pip.\n",
            "  Building wheel for simple_knn (setup.py) ... \u001b[?25lerror\n",
            "\u001b[31m  ERROR: Failed building wheel for simple_knn\u001b[0m\u001b[31m\n",
            "\u001b[0m\u001b[?25h  Running setup.py clean for simple_knn\n",
            "Failed to build simple_knn\n",
            "\u001b[31mERROR: ERROR: Failed to build installable wheels for some pyproject.toml based projects (simple_knn)\u001b[0m\u001b[31m\n",
            "\u001b[0mProcessing ./submodules/diff-surfel-rasterization\n",
            "  Preparing metadata (setup.py) ... \u001b[?25l\u001b[?25hdone\n",
            "Building wheels for collected packages: diff_surfel_rasterization\n",
            "  Building wheel for diff_surfel_rasterization (setup.py) ... \u001b[?25l\u001b[?25hdone\n",
            "  Created wheel for diff_surfel_rasterization: filename=diff_surfel_rasterization-0.0.1-cp311-cp311-linux_x86_64.whl size=3344170 sha256=4361381551580d7edee3fd0de907542880b1a1062de61d76554ab7663e81eb7f\n",
            "  Stored in directory: /root/.cache/pip/wheels/89/33/8d/cbb0da2867c8a6c65de6ec30f4e98297ecb5adbdf7832fc866\n",
            "Successfully built diff_surfel_rasterization\n",
            "Installing collected packages: diff_surfel_rasterization\n",
            "Successfully installed diff_surfel_rasterization-0.0.1\n"
          ]
        }
      ],
      "source": [
        "import os\n",
        "os.environ['CUDA_HOME'] = '/usr/local/cuda' #ensure that the CUDA path is correct\n",
        "!pip install ninja\n",
        "!pip install submodules/simple-knn\n",
        "!pip install submodules/diff-surfel-rasterization"
      ]
    },
    {
      "cell_type": "code",
      "source": [
        "%cd submodules/simple-knn/\n",
        "!pip install -e ."
      ],
      "metadata": {
        "id": "U2wu5rDOebXv",
        "outputId": "29c1ee64-7f38-4b7d-ab2a-f917c87207c0",
        "colab": {
          "base_uri": "https://localhost:8080/"
        }
      },
      "execution_count": null,
      "outputs": [
        {
          "output_type": "stream",
          "name": "stdout",
          "text": [
            "/content/2d-gaussian-splatting/submodules/simple-knn\n",
            "Obtaining file:///content/2d-gaussian-splatting/submodules/simple-knn\n",
            "  Preparing metadata (setup.py) ... \u001b[?25l\u001b[?25hdone\n",
            "Installing collected packages: simple_knn\n",
            "  Running setup.py develop for simple_knn\n"
          ]
        }
      ]
    },
    {
      "cell_type": "code",
      "execution_count": null,
      "metadata": {
        "id": "Gp_mHmNfY8OH"
      },
      "outputs": [],
      "source": [
        "from google.colab import drive\n",
        "drive.mount('/content/drive')"
      ]
    },
    {
      "cell_type": "code",
      "execution_count": null,
      "metadata": {
        "id": "mNbChlEEZ2ZP"
      },
      "outputs": [],
      "source": [
        "%cd /content/2d-gaussian-splatting/"
      ]
    },
    {
      "cell_type": "markdown",
      "metadata": {
        "id": "aklgj8llF7wH"
      },
      "source": [
        "For Colab to access your COLMAP processed data, please copy the COLMAP output to your Google Drive and enter the full COLMAP source path (e.g. /content/drive/MyDrive/COLMAP_out)"
      ]
    },
    {
      "cell_type": "code",
      "execution_count": null,
      "metadata": {
        "id": "UhHKVQ-Smo43"
      },
      "outputs": [],
      "source": [
        "COLMAP_PATH = \"/content/south-building\" #str(input('Please enter COLMAP output path:'))"
      ]
    },
    {
      "cell_type": "code",
      "execution_count": null,
      "metadata": {
        "id": "3GxTJBDKZ9xW"
      },
      "outputs": [],
      "source": [
        "!python train.py -s $COLMAP_PATH"
      ]
    },
    {
      "cell_type": "markdown",
      "metadata": {
        "id": "yobYeU37ZPWh"
      },
      "source": [
        "Training is complete, to use render.py, please enter the desired model_path located in your Drive: /content/drive/MyDrive/2d_gaussian_splatting/output/{10 digit UUID}: (e.g: /content/drive/MyDrive/2d_gaussian_splatting/output/8d812792-1)"
      ]
    },
    {
      "cell_type": "code",
      "execution_count": null,
      "metadata": {
        "id": "D__QYW6vZPWi"
      },
      "outputs": [],
      "source": [
        "MODEL_PATH = str(input('Please enter the model path:'))"
      ]
    },
    {
      "cell_type": "code",
      "execution_count": null,
      "metadata": {
        "id": "Sn9uflTH5ut6"
      },
      "outputs": [],
      "source": [
        "!pip3 install open3d==0.18.0 mediapy==1.1.2 lpips==0.1.4 scikit-image==0.21.0 tqdm==4.66.2 trimesh==4.3.2 opencv-python"
      ]
    },
    {
      "cell_type": "code",
      "execution_count": null,
      "metadata": {
        "id": "T2inVQ3K49lS"
      },
      "outputs": [],
      "source": [
        "!python render.py -m $MODEL_PATH -s $COLMAP_PATH"
      ]
    },
    {
      "cell_type": "markdown",
      "metadata": {
        "id": "PhVZVSB-ZPWi"
      },
      "source": [
        "Training and rendering is complete, please navigate to your drive and see the model outputs under the directory \"2d_gaussian_splatting/\"."
      ]
    }
  ],
  "metadata": {
    "colab": {
      "provenance": [],
      "gpuType": "T4"
    },
    "kernelspec": {
      "display_name": "Python 3",
      "name": "python3"
    },
    "language_info": {
      "name": "python"
    },
    "accelerator": "GPU"
  },
  "nbformat": 4,
  "nbformat_minor": 0
}